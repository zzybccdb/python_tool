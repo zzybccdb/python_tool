{
 "cells": [
  {
   "cell_type": "code",
   "execution_count": 1,
   "metadata": {
    "scrolled": true
   },
   "outputs": [],
   "source": [
    "import database\n",
    "from dataset import Dataset\n",
    "from ae_test import AutoencoderTest\n",
    "import torch.optim as optim\n",
    "import torch\n",
    "from tqdm import tqdm_notebook\n",
    "import torch.nn.functional as F\n",
    "import numpy as np\n",
    "import os\n",
    "# 如果想要import 子文件下的py檔，需要在子文件下建立一個__init__.py，可以爲空\n",
    "import plt.plt_hist as plt_hist"
   ]
  },
  {
   "cell_type": "code",
   "execution_count": 2,
   "metadata": {},
   "outputs": [],
   "source": [
    "dataset_name = 'bike_sharing'\n",
    "pre_sort = 'sort/'+dataset_name+'_sort.pth'\n",
    "batch_size = 64\n",
    "batch = []\n",
    "rows = 17379"
   ]
  },
  {
   "cell_type": "code",
   "execution_count": 3,
   "metadata": {},
   "outputs": [],
   "source": [
    "# 資料庫連接設定\n",
    "db = database.DEFAULT_DB()\n",
    "db.setUp()"
   ]
  },
  {
   "cell_type": "code",
   "execution_count": 4,
   "metadata": {},
   "outputs": [
    {
     "name": "stdout",
     "output_type": "stream",
     "text": [
      "new dataset: bike_sharing\n"
     ]
    },
    {
     "data": {
      "text/plain": [
       "(17379, 14)"
      ]
     },
     "execution_count": 4,
     "metadata": {},
     "output_type": "execute_result"
    }
   ],
   "source": [
    "# 資料集資料載入\n",
    "dataset = Dataset(db,dataset_name)\n",
    "dataset.load(batch_size,1,1,all_level=True)\n",
    "rawdata = dataset.rawdata\n",
    "rawdata.shape"
   ]
  },
  {
   "cell_type": "code",
   "execution_count": 5,
   "metadata": {},
   "outputs": [],
   "source": [
    "# 給定一個distance matric index，回傳計算這個distance的兩個instance的index\n",
    "def find_index(index,rows):\n",
    "    item1 = 0\n",
    "    item2 =0\n",
    "    rowstemp = rows-1\n",
    "    for i in range(0,rows):\n",
    "        slot = i + 1\n",
    "        if(index < (rowstemp-i)):\n",
    "            item1 = i\n",
    "            item2 = index + slot \n",
    "            break\n",
    "        index -= rowstemp-i\n",
    "    return item1,item2"
   ]
  },
  {
   "cell_type": "code",
   "execution_count": 6,
   "metadata": {},
   "outputs": [],
   "source": [
    "# 資料點兩兩之間距離矩陣\n",
    "def distance(data, eps=1e-8):\n",
    "    n = data.shape[0]\n",
    "    distance_matrix = []\n",
    "    data = data.to(data.device)\n",
    "    for i in tqdm_notebook(range(n)):\n",
    "        dist = data - data[i:i+1].repeat(n, 1)\n",
    "        dist = dist.pow(2).sum(1)\n",
    "        dist = (dist+eps).sqrt()\n",
    "        dist[i] = 0\n",
    "        distance_matrix.append(dist)\n",
    "    distance_matrix = torch.cat(distance_matrix,0).view(n,n)\n",
    "    distance_matrix = distance_matrix.cpu()\n",
    "    mask = torch.ones(n,n)\n",
    "    mask = torch.triu(mask,diagonal=1)\n",
    "    mean = distance_matrix[mask>0].mean()\n",
    "#     print(\"######:\", mean)\n",
    "    distance_matrix[mask>0] = distance_matrix[mask>0]/mean\n",
    "    return distance_matrix[mask>0]"
   ]
  },
  {
   "cell_type": "code",
   "execution_count": 7,
   "metadata": {},
   "outputs": [],
   "source": [
    "# 繪製出隨機挑選出的batch的hist\n",
    "def draw_select(batch,k,file='pickBydistance'):\n",
    "    batch_data = []\n",
    "    for i in batch:\n",
    "        batch_data.append(rawdata[i])\n",
    "    batch_data = torch.Tensor(batch_data)\n",
    "    batch_data.shape\n",
    "    batch_map = distance(batch_data)\n",
    "    plt_hist.draw_hist(data=batch_map,batch_size=batch_size,title='batch_hist'+str(k),file=file)"
   ]
  },
  {
   "cell_type": "code",
   "execution_count": 8,
   "metadata": {},
   "outputs": [
    {
     "name": "stderr",
     "output_type": "stream",
     "text": [
      "/usr/local/lib/python3.6/dist-packages/matplotlib/axes/_axes.py:6521: MatplotlibDeprecationWarning: \n",
      "The 'normed' kwarg was deprecated in Matplotlib 2.1 and will be removed in 3.1. Use 'density' instead.\n",
      "  alternative=\"'density'\", removal=\"3.1\")\n"
     ]
    },
    {
     "name": "stdout",
     "output_type": "stream",
     "text": [
      "151006131\n"
     ]
    },
    {
     "data": {
      "image/png": "[encoded data removed]",
      "text/plain": [
       "<Figure size 432x288 with 1 Axes>"
      ]
     },
     "metadata": {
      "needs_background": "light"
     },
     "output_type": "display_data"
    }
   ],
   "source": [
    "# 绘制distance_map分布直方图\n",
    "# 利用torch.numpy()將torch array 轉換爲numpy array\n",
    "distance_map = torch.load('distance_map/'+dataset_name+'_pre_compute_distance_matrix.pth').numpy()\n",
    "plt_hist.draw_hist(data=distance_map,batch_size=64)\n",
    "print(distance_map.shape[0])\n",
    "total_length = distance_map.shape[0] "
   ]
  },
  {
   "cell_type": "code",
   "execution_count": 9,
   "metadata": {},
   "outputs": [
    {
     "name": "stdout",
     "output_type": "stream",
     "text": [
      "(151006131,)\n"
     ]
    }
   ],
   "source": [
    "print(distance_map.shape)\n",
    "# 將distance matrix進行排序\n",
    "if not os.path.exists(pre_sort):\n",
    "    distance_map_sort = np.argsort(distance_map)\n",
    "    torch.save(distance_map_sort,pre_sort)\n",
    "else:\n",
    "    distance_map_sort = torch.load(pre_sort)"
   ]
  },
  {
   "cell_type": "code",
   "execution_count": 10,
   "metadata": {},
   "outputs": [
    {
     "data": {
      "text/plain": [
       "33"
      ]
     },
     "execution_count": 10,
     "metadata": {},
     "output_type": "execute_result"
    }
   ],
   "source": [
    "# 將距離矩陣分割爲 batch_size 的份數\n",
    "separate_index = []\n",
    "slot = int(total_length/(batch_size/2))\n",
    "for i in range(0,int(batch_size/2)):\n",
    "    separate_index.append(int(i*slot))\n",
    "separate_index.append(int(total_length))\n",
    "len(separate_index)"
   ]
  },
  {
   "cell_type": "code",
   "execution_count": 11,
   "metadata": {},
   "outputs": [],
   "source": [
    "# 1.從dataloader中順序挑選出的batch_data\n",
    "# 兩兩之間的 distance 分佈的 hist\n",
    "# INPUT_DIM = len(dataset.columns)\n",
    "# i = 0\n",
    "# for batch_data in tqdm_notebook(dataset.dataloader):\n",
    "#     batch_data = batch_data[:INPUT_DIM]\n",
    "#     batch_data = torch.Tensor(batch_data)\n",
    "#     batch_map = distance(batch_data)\n",
    "#     plt_hist.draw_hist(data=batch_map,batch_size=batch_size,title='batch_hist'+str(i),file='org')\n",
    "#     i += 1"
   ]
  },
  {
   "cell_type": "code",
   "execution_count": 12,
   "metadata": {
    "scrolled": true
   },
   "outputs": [],
   "source": [
    "# 2.將random得到的距離index還原回原始的資料index\n",
    "# 並將其放入batch中\n",
    "# k = 0\n",
    "# for _ in tqdm_notebook(range(273)):\n",
    "#     print(k)\n",
    "#     random_index = []\n",
    "#     batch = []\n",
    "#     i = 0\n",
    "#     for i in range(0,int(batch_size/2)):\n",
    "#         item = np.random.randint(separate_index[i],separate_index[i+1],size=1)\n",
    "#         random_index.append(item)\n",
    "#     for i in range(0,int(batch_size/2)):\n",
    "#         index = distance_map_sort[random_index[i][0]]\n",
    "#         idx1,idx2 = find_index(index,rows)\n",
    "#         batch.append(int(idx1))\n",
    "#         batch.append(int(idx2))\n",
    "#     batch = set(batch)\n",
    "#     draw_select(batch,k)\n",
    "#     k+=1"
   ]
  },
  {
   "cell_type": "code",
   "execution_count": 13,
   "metadata": {
    "scrolled": true
   },
   "outputs": [],
   "source": [
    "# 3.計算distance_map,將其對row取平均。\n",
    "# data = torch.Tensor(rawdata)\n",
    "# eps = 1e-8\n",
    "# n = data.shape[0]\n",
    "# distance_matrix = []\n",
    "# data = data.to(data.device)\n",
    "# for i in tqdm_notebook(range(n)):\n",
    "#     dist = data - data[i:i+1].repeat(n, 1)\n",
    "#     dist = dist.pow(2).sum(1)\n",
    "#     dist = (dist+eps).sqrt()\n",
    "#     dist[i] = 0\n",
    "#     distance_matrix.append(dist)\n",
    "# # 將data進行縱向排序，torch.cat(data,0).view(n,n)\n",
    "# distance_matrix = torch.cat(distance_matrix,0).view(n,n)\n",
    "# distance_matrix = distance_matrix.cpu()\n",
    "# # 使用 torch.mean將每一個row求和，參數分別對應的是 data，dim，是否保持張量與輸入一致\n",
    "# distance_matrix = torch.mean(distance_matrix, 1, True)\n",
    "# distance_matrix = distance_matrix.numpy()\n"
   ]
  },
  {
   "cell_type": "code",
   "execution_count": 14,
   "metadata": {
    "scrolled": true
   },
   "outputs": [],
   "source": [
    "# 將算出的 distance_mean 切片\n",
    "# 需要注意一個問題，通常而言在numpy中（2,1）指的並不是一位數組，我們需要將其攤平\n",
    "# 這裏使用的是 numpy.flatten()\n",
    "# distance_matrix=distance_matrix.flatten()\n",
    "# total_length = distance_matrix.shape[0]\n",
    "# distance_matrix_sort = np.argsort(distance_matrix)\n",
    "# separate_index = []\n",
    "# slot = int(total_length/batch_size)\n",
    "# for i in range(0,int(batch_size)):\n",
    "#     separate_index.append(int(i*slot))\n",
    "# separate_index.append(int(total_length))"
   ]
  },
  {
   "cell_type": "code",
   "execution_count": 15,
   "metadata": {},
   "outputs": [],
   "source": [
    "# 繪製圖像\n",
    "# k = 0\n",
    "# for _ in tqdm_notebook(range(273)):\n",
    "#     print(k)\n",
    "#     batch = []\n",
    "#     i = 0\n",
    "#     for i in range(0,int(batch_size)):\n",
    "#         item = np.random.randint(separate_index[i],separate_index[i+1],size=1)\n",
    "#         item = distance_matrix_sort[item[0]]\n",
    "#         batch.append(item)\n",
    "#     batch = set(batch)\n",
    "#     draw_select(batch,k,'pickBymean')\n",
    "#     k+=1"
   ]
  }
 ],
 "metadata": {
  "kernelspec": {
   "display_name": "Python 3",
   "language": "python",
   "name": "python3"
  },
  "language_info": {
   "codemirror_mode": {
    "name": "ipython",
    "version": 3
   },
   "file_extension": ".py",
   "mimetype": "text/x-python",
   "name": "python",
   "nbconvert_exporter": "python",
   "pygments_lexer": "ipython3",
   "version": "3.6.7"
  }
 },
 "nbformat": 4,
 "nbformat_minor": 2
}
