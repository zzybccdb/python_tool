{
 "cells": [
  {
   "cell_type": "code",
   "execution_count": null,
   "metadata": {},
   "outputs": [],
   "source": [
    "# g = {'b': 'a', 'c': 'a', 'd': 'b'}表示信息由a传到b和c，再由b传到d。\n",
    "# 写出一个函数，这个函数接受这样任何一个传播关系的字典，返回这个传播关系的最远路径的级数(整型)。\n",
    "# 例如，在给定的g这个例子中，最远路径的级数为2（从a到b，再从b到d）。"
   ]
  },
  {
   "cell_type": "code",
   "execution_count": 58,
   "metadata": {},
   "outputs": [],
   "source": [
    "class node:\n",
    "    def __init__(self,id):\n",
    "        self.id = id\n",
    "        self.next = []\n",
    "    \n",
    "    def link(self,dest):\n",
    "        self.next.append(dest)\n",
    "    \n",
    "    def longest_list(self):\n",
    "        max_num = 0\n",
    "        for dest in self.next:\n",
    "            num = dest.longest_list()\n",
    "            num += 1\n",
    "            if num > max_num:\n",
    "                max_num = num\n",
    "        return max_num"
   ]
  },
  {
   "cell_type": "code",
   "execution_count": 59,
   "metadata": {},
   "outputs": [],
   "source": [
    "def longest(g):\n",
    "    start = set()\n",
    "    nodes = {}\n",
    "    max_num = 0\n",
    "    \n",
    "    for dest in g:\n",
    "        src = g[dest]\n",
    "        if src not in g:\n",
    "            start.add(src)\n",
    "        if src not in nodes:\n",
    "            nodes[src] = node(src)\n",
    "        if dest not in nodes:\n",
    "            nodes[dest] = node(dest)\n",
    "        nodes[src].link(nodes[dest])\n",
    "        \n",
    "    for s in start:\n",
    "        length = nodes[s].longest_list()\n",
    "        if max_num < length:\n",
    "            max_num=length\n",
    "    return max_num"
   ]
  },
  {
   "cell_type": "code",
   "execution_count": 93,
   "metadata": {},
   "outputs": [
    {
     "name": "stdout",
     "output_type": "stream",
     "text": [
      "4\n"
     ]
    }
   ],
   "source": [
    "g = {'b': 'a', 'c': 'a', 'd': 'b', 'f':'c','g':'b','h':'g'}\n",
    "g = {'a':'b','c':'a','d':'c','f':'d'}\n",
    "# g = {'a':'a'}\n",
    "# g = {'b': 'a', 'c': 'a', 'd': 'b'}\n",
    "max_num = longest(g)\n",
    "print(max_num)"
   ]
  },
  {
   "cell_type": "code",
   "execution_count": null,
   "metadata": {},
   "outputs": [],
   "source": []
  }
 ],
 "metadata": {
  "kernelspec": {
   "display_name": "Python 3",
   "language": "python",
   "name": "python3"
  },
  "language_info": {
   "codemirror_mode": {
    "name": "ipython",
    "version": 3
   },
   "file_extension": ".py",
   "mimetype": "text/x-python",
   "name": "python",
   "nbconvert_exporter": "python",
   "pygments_lexer": "ipython3",
   "version": "3.6.7"
  }
 },
 "nbformat": 4,
 "nbformat_minor": 2
}
